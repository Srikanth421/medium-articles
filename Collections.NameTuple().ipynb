{
 "cells": [
  {
   "cell_type": "markdown",
   "id": "4099b37b",
   "metadata": {},
   "source": [
    "## NamedTuple Examples"
   ]
  },
  {
   "cell_type": "code",
   "execution_count": 1,
   "id": "c85eb7b6",
   "metadata": {},
   "outputs": [],
   "source": [
    "p = (2,3) # <-- Regular Tuple"
   ]
  },
  {
   "cell_type": "code",
   "execution_count": 8,
   "id": "944138c1",
   "metadata": {},
   "outputs": [
    {
     "name": "stdout",
     "output_type": "stream",
     "text": [
      "2\n"
     ]
    }
   ],
   "source": [
    "print(p[0]) # prints the value 2"
   ]
  },
  {
   "cell_type": "code",
   "execution_count": 5,
   "id": "f1a4acb5",
   "metadata": {},
   "outputs": [],
   "source": [
    "from collections import namedtuple\n",
    "Point = namedtuple(\"Point\", \"x y\")"
   ]
  },
  {
   "cell_type": "code",
   "execution_count": 6,
   "id": "8d14abfb",
   "metadata": {},
   "outputs": [],
   "source": [
    "p = Point(2,3)"
   ]
  },
  {
   "cell_type": "code",
   "execution_count": 9,
   "id": "acc28335",
   "metadata": {},
   "outputs": [
    {
     "name": "stdout",
     "output_type": "stream",
     "text": [
      "2\n"
     ]
    }
   ],
   "source": [
    "print(p.x) # <-- we can use names instead of indices to fetch values"
   ]
  },
  {
   "cell_type": "code",
   "execution_count": 20,
   "id": "7bdb4992",
   "metadata": {},
   "outputs": [],
   "source": [
    "Point2 = namedtuple(\"Point\", \"x y 1\",rename=True, defaults = [-1,-2,-3])"
   ]
  },
  {
   "cell_type": "code",
   "execution_count": 27,
   "id": "50397ad7",
   "metadata": {},
   "outputs": [],
   "source": [
    "p2 = Point2(2,3)"
   ]
  },
  {
   "cell_type": "code",
   "execution_count": 28,
   "id": "fa3d3ff7",
   "metadata": {},
   "outputs": [
    {
     "name": "stdout",
     "output_type": "stream",
     "text": [
      "Point(x=2, y=3, _2=-3)\n"
     ]
    }
   ],
   "source": [
    "print(p2)"
   ]
  },
  {
   "cell_type": "code",
   "execution_count": 29,
   "id": "97302f60",
   "metadata": {},
   "outputs": [],
   "source": [
    "Book = namedtuple(\"Book\", \"name author pages\")\n",
    "book = Book(\"The Alchemist\", \"Paulo Coelho\", 163)"
   ]
  },
  {
   "cell_type": "code",
   "execution_count": 31,
   "id": "017f255e",
   "metadata": {},
   "outputs": [
    {
     "name": "stdout",
     "output_type": "stream",
     "text": [
      "Classic book selected\n"
     ]
    }
   ],
   "source": [
    "if book[0] == \"The Alchemist\" and book[1] == \"Paulo Coelho\" and book[2]:\n",
    "    print(\"Classic book selected\")"
   ]
  },
  {
   "cell_type": "code",
   "execution_count": 30,
   "id": "4d561464",
   "metadata": {},
   "outputs": [
    {
     "name": "stdout",
     "output_type": "stream",
     "text": [
      "Classic book selected\n"
     ]
    }
   ],
   "source": [
    "# Pythonic way is more readable\n",
    "if book.name == \"The Alchemist\" and book.author == \"Paulo Coelho\" and book.pages:\n",
    "    print(\"Classic book selected\")"
   ]
  },
  {
   "cell_type": "code",
   "execution_count": 33,
   "id": "dbfc1f2e",
   "metadata": {},
   "outputs": [
    {
     "name": "stdout",
     "output_type": "stream",
     "text": [
      "Help on function namedtuple in module collections:\n",
      "\n",
      "namedtuple(typename, field_names, *, rename=False, defaults=None, module=None)\n",
      "    Returns a new subclass of tuple with named fields.\n",
      "    \n",
      "    >>> Point = namedtuple('Point', ['x', 'y'])\n",
      "    >>> Point.__doc__                   # docstring for the new class\n",
      "    'Point(x, y)'\n",
      "    >>> p = Point(11, y=22)             # instantiate with positional args or keywords\n",
      "    >>> p[0] + p[1]                     # indexable like a plain tuple\n",
      "    33\n",
      "    >>> x, y = p                        # unpack like a regular tuple\n",
      "    >>> x, y\n",
      "    (11, 22)\n",
      "    >>> p.x + p.y                       # fields also accessible by name\n",
      "    33\n",
      "    >>> d = p._asdict()                 # convert to a dictionary\n",
      "    >>> d['x']\n",
      "    11\n",
      "    >>> Point(**d)                      # convert from a dictionary\n",
      "    Point(x=11, y=22)\n",
      "    >>> p._replace(x=100)               # _replace() is like str.replace() but targets named fields\n",
      "    Point(x=100, y=22)\n",
      "\n"
     ]
    }
   ],
   "source": [
    "help(namedtuple)"
   ]
  }
 ],
 "metadata": {
  "kernelspec": {
   "display_name": "Python 3",
   "language": "python",
   "name": "python3"
  },
  "language_info": {
   "codemirror_mode": {
    "name": "ipython",
    "version": 3
   },
   "file_extension": ".py",
   "mimetype": "text/x-python",
   "name": "python",
   "nbconvert_exporter": "python",
   "pygments_lexer": "ipython3",
   "version": "3.7.10"
  }
 },
 "nbformat": 4,
 "nbformat_minor": 5
}
