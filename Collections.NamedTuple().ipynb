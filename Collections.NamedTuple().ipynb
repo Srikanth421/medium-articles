{
 "cells": [
  {
   "cell_type": "code",
   "execution_count": 1,
   "id": "c85eb7b6",
   "metadata": {},
   "outputs": [],
   "source": [
    "p = (2,3) # <-- Regular Tuple"
   ]
  },
  {
   "cell_type": "code",
   "execution_count": 8,
   "id": "829afcfb",
   "metadata": {},
   "outputs": [
    {
     "name": "stdout",
     "output_type": "stream",
     "text": [
      "2\n"
     ]
    }
   ],
   "source": [
    "print(p[0]) # prints the value 2"
   ]
  },
  {
   "cell_type": "code",
   "execution_count": 5,
   "id": "617a9731",
   "metadata": {},
   "outputs": [],
   "source": [
    "from collections import namedtuple\n",
    "Point = namedtuple(\"Point\", \"x y\")"
   ]
  },
  {
   "cell_type": "code",
   "execution_count": 6,
   "id": "fca73dc6",
   "metadata": {},
   "outputs": [],
   "source": [
    "p = Point(2,3)"
   ]
  },
  {
   "cell_type": "code",
   "execution_count": 9,
   "id": "3e669195",
   "metadata": {},
   "outputs": [
    {
     "name": "stdout",
     "output_type": "stream",
     "text": [
      "2\n"
     ]
    }
   ],
   "source": [
    "print(p.x) # <-- we can use names instead of indices to fetch values"
   ]
  },
  {
   "cell_type": "code",
   "execution_count": 11,
   "id": "8918dbcf",
   "metadata": {},
   "outputs": [],
   "source": [
    "# help(namedtuple)"
   ]
  },
  {
   "cell_type": "code",
   "execution_count": 20,
   "id": "121c920c",
   "metadata": {},
   "outputs": [],
   "source": [
    "Point2 = namedtuple(\"Point\", \"x y 1\",rename=True, defaults = [-1,-2,-3])"
   ]
  },
  {
   "cell_type": "code",
   "execution_count": 27,
   "id": "86e5b4b0",
   "metadata": {},
   "outputs": [],
   "source": [
    "p2 = Point2(2,3)"
   ]
  },
  {
   "cell_type": "code",
   "execution_count": 28,
   "id": "981ec74c",
   "metadata": {},
   "outputs": [
    {
     "name": "stdout",
     "output_type": "stream",
     "text": [
      "Point(x=2, y=3, _2=-3)\n"
     ]
    }
   ],
   "source": [
    "print(p2)"
   ]
  },
  {
   "cell_type": "code",
   "execution_count": null,
   "id": "b726bf7e",
   "metadata": {},
   "outputs": [],
   "source": []
  }
 ],
 "metadata": {
  "kernelspec": {
   "display_name": "Python 3",
   "language": "python",
   "name": "python3"
  },
  "language_info": {
   "codemirror_mode": {
    "name": "ipython",
    "version": 3
   },
   "file_extension": ".py",
   "mimetype": "text/x-python",
   "name": "python",
   "nbconvert_exporter": "python",
   "pygments_lexer": "ipython3",
   "version": "3.7.10"
  }
 },
 "nbformat": 4,
 "nbformat_minor": 5
}
